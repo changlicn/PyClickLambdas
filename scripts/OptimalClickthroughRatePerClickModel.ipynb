{
 "cells": [
  {
   "cell_type": "markdown",
   "metadata": {},
   "source": [
    "# Optimal Clickthrough Rate Ranking for Click Models\n",
    "\n",
    "In the description of the click models I use the same notation as in Click Models for Web Search (Chuklin et al., 2015).\n",
    "\n",
    "For convenience and demonstration that the clickthrough rate of all the models we consider here follow the same rule we define $CTR^\\mathcal{M}(r:K)$ as a probability of seeing a click under the click model $\\mathcal{M}$ on the part of a document ranking that spands from rank $r$ up to $K$. The clickthrough rate of the whole ranking is $CTR(1:K)$\n",
    "\n",
    "In all cases $\\alpha_{d_r}$ denotes **the attractiveness of a document at rank $r$**, i.e. the probability with which it is clicked on."
   ]
  },
  {
   "cell_type": "markdown",
   "metadata": {},
   "source": [
    "## Cascade Model (CM)\n",
    "Clickthrough rate of document ranking $\\boldsymbol{d} = \\lbrace d_r\\rbrace_{r=1}^{K}$ for cascade user model is defined as follows:\n",
    "\n",
    "$$\n",
    "CTR^{CM}(1:K) = 1 - \\prod_{r=1}^{K}(1 - \\alpha_{d_r}) = 1 - (1 - \\alpha_{d_r})(1 - CTR^{CM}(2:K))\n",
    "$$"
   ]
  },
  {
   "cell_type": "markdown",
   "metadata": {},
   "source": [
    "## Position-Based Model (PBM)\n",
    "Clickthrough rate of document ranking $\\boldsymbol{d} = \\lbrace d_r\\rbrace_{r=1}^{K}$ for position-based user model is defined as follows:\n",
    "\n",
    "$$\n",
    "CTR^{PBM}(1:K) = 1 - \\prod_{r=1}^{K}(1 - \\gamma_r\\alpha_{d_r}) = 1 - (1 - \\gamma_r\\alpha_{d_r})(1 - CTR^{PBM}(2:K))\n",
    "$$\n",
    "\n",
    "where **$\\gamma_r$ is the probability of examining** a document at rank $r$."
   ]
  },
  {
   "cell_type": "markdown",
   "metadata": {},
   "source": [
    "## Dependent Click Model (DCM)\n",
    "Clickthrough rate of document ranking $\\boldsymbol{d} = \\lbrace d_r\\rbrace_{r=1}^{K}$ for dependent click user model is defined as follows:\n",
    "\n",
    "$$\n",
    "CTR^{DCM}(1:K) = 1 - \\prod_{r=1}^{K}(1 - \\gamma_r\\alpha_{d_r}) = 1 - (1 - \\gamma_r\\alpha_{d_r})(1 - CTR^{DCM}(2:K))\n",
    "$$\n",
    "\n",
    "where **$\\gamma_r$ is the probability of stopping** examination of the list (abandoing) after clicking on a document at rank $r$."
   ]
  },
  {
   "cell_type": "markdown",
   "metadata": {},
   "source": [
    "## Dynamic Bayesian Network (DBN)\n",
    "Clickthrough rate of document ranking $\\boldsymbol{d} = \\lbrace d_r\\rbrace_{r=1}^{K}$ for dynamic Bayesian user model is defined as follows:\n",
    "\n",
    "$$\n",
    "CTR^{DBN}(1:K) = 1 - (1 - \\alpha_{d_r})(1 - \\gamma CTR^{DBN}(2:K))\n",
    "$$\n",
    "\n",
    "where **$\\gamma$ is the probability of continuation** in examining of the list (user persistency)."
   ]
  },
  {
   "cell_type": "markdown",
   "metadata": {},
   "source": [
    "## Click Chain User Model (CCM)\n",
    "Clickthrough rate of document ranking $\\boldsymbol{d} = \\lbrace d_r\\rbrace_{r=1}^{K}$ for click chain user model is defined as follows:\n",
    "\n",
    "$$\n",
    "CTR^{CCM}(1:K) = 1 - (1 - \\alpha_{d_r})(1 - \\tau_1CTR^{CCM}(2:K))\n",
    "$$"
   ]
  },
  {
   "cell_type": "markdown",
   "metadata": {},
   "source": [
    "## User Browsing Model (UBM)\n",
    "Clickthrough rate of document ranking $\\boldsymbol{d} = \\lbrace d_r\\rbrace_{r=1}^{K}$ for user browsing model is defined as follows:\n",
    "\n",
    "$$\n",
    "CTR^{UBM}(1:K) = 1 - \\prod_{r=1}^{K}(1 - \\gamma_{0r}\\alpha_{d_r}) = 1 - (1 - \\gamma_{0r}\\alpha_{d_r})(1 - CTR^{PBM}(2:K))\n",
    "$$\n",
    "\n",
    "where **$\\gamma_{0r}$ is the probability of examining** a document at rank $r$ when there has not been a click at any higher rank than $r$."
   ]
  },
  {
   "cell_type": "markdown",
   "metadata": {},
   "source": [
    "# General Clickthrough Rate Formula\n",
    "\n",
    "You can see from the expressions above that when there is **no abandonment** - model does not account for the fact that user may be dissatisfied with the list to the extent in which she leaves before even seeing all the documents - the clickthrough rate **expression does not factorize**. Notice then, that only DBN and CCM models account for the abandonment.\n",
    "\n",
    "## The formula\n",
    "The general expression for clickthrough rate of the models metioned above is\n",
    "\n",
    "$$\n",
    "CTR^\\mathcal{M}(1:K) = 1 - (1 - \\gamma_r\\alpha_{d_r})(1 - \\lambda CTR^\\mathcal{M}(2:K))\n",
    "$$\n",
    "\n",
    "For example, let's take the simpliest model of all - $\\mathcal{M} = CM$ - which does not account for abandonment, i.e. $\\lambda = 1$, and the probability of clicking on a document is influenced only by the document's relevance, i.e. $\\gamma_r = 1,r\\in\\{1,\\ldots,K\\}$. By pluging these into the formula we get the expression for $CTR^{CM}$.\n",
    "\n",
    "## Optimal Document Ranking\n",
    "The optimal document ranking need to be derived only from the general formula above. For that matter we can see that the ordering of documents is determined by probabilities of attractiveness ($\\alpha$), examination ($\\gamma$), and abandonment ($\\lambda$). Because the models accounting for abandonment assume that it is constant, we can put it aside, but in more general case, when the abandonment depended on a rank, for example, it would be a nice exercise to see how it influences the ordering.\n",
    "\n",
    "So the **optimal K-ordering** based on known parameters of $\\alpha$ and $\\gamma$ should be made such that $i$-th most relevant document should be put on the rank with $i$-th highest probability of examination.\n",
    "\n",
    "Written in Python:"
   ]
  },
  {
   "cell_type": "code",
   "execution_count": null,
   "metadata": {
    "collapsed": false
   },
   "outputs": [],
   "source": [
    "np.argsort(-alphas, kind='mergesort')[:K][np.argsort(np.lexsort((np.arange(K), -gammas[:K])))]"
   ]
  }
 ],
 "metadata": {
  "kernelspec": {
   "display_name": "Python 2",
   "language": "python",
   "name": "python2"
  },
  "language_info": {
   "codemirror_mode": {
    "name": "ipython",
    "version": 2
   },
   "file_extension": ".py",
   "mimetype": "text/x-python",
   "name": "python",
   "nbconvert_exporter": "python",
   "pygments_lexer": "ipython2",
   "version": "2.7.6"
  }
 },
 "nbformat": 4,
 "nbformat_minor": 0
}
